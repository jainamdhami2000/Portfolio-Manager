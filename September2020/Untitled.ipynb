{
 "cells": [
  {
   "cell_type": "code",
   "execution_count": 40,
   "metadata": {},
   "outputs": [],
   "source": [
    "import numpy as np\n",
    "import pandas as pd"
   ]
  },
  {
   "cell_type": "markdown",
   "metadata": {},
   "source": [
    "dataset1 = pd.read_csv('mrg_trading.csv',error_bad_lines=False,encoding='latin')\n",
    "dataset1.to_csv('mrg_trading.csv', encoding='utf-8')\n",
    "dataset2 = pd.read_csv('mrg_trading.csv')\n",
    "dataset2"
   ]
  },
  {
   "cell_type": "markdown",
   "metadata": {},
   "source": [
    "dataset2 = pd.read_csv('q.csv')"
   ]
  },
  {
   "cell_type": "markdown",
   "metadata": {},
   "source": [
    "dataset2"
   ]
  },
  {
   "cell_type": "code",
   "execution_count": 43,
   "metadata": {},
   "outputs": [],
   "source": [
    "dataset = pd.read_excel('companies.xlsx')"
   ]
  },
  {
   "cell_type": "code",
   "execution_count": 44,
   "metadata": {},
   "outputs": [
    {
     "data": {
      "text/html": [
       "<div>\n",
       "<style scoped>\n",
       "    .dataframe tbody tr th:only-of-type {\n",
       "        vertical-align: middle;\n",
       "    }\n",
       "\n",
       "    .dataframe tbody tr th {\n",
       "        vertical-align: top;\n",
       "    }\n",
       "\n",
       "    .dataframe thead th {\n",
       "        text-align: right;\n",
       "    }\n",
       "</style>\n",
       "<table border=\"1\" class=\"dataframe\">\n",
       "  <thead>\n",
       "    <tr style=\"text-align: right;\">\n",
       "      <th></th>\n",
       "      <th>Sr. No.</th>\n",
       "      <th>Symbol</th>\n",
       "      <th>Company Name</th>\n",
       "      <th>Market Capitalisation \\n(In lakhs)</th>\n",
       "    </tr>\n",
       "  </thead>\n",
       "  <tbody>\n",
       "    <tr>\n",
       "      <th>0</th>\n",
       "      <td>1</td>\n",
       "      <td>RELIANCE</td>\n",
       "      <td>Reliance Industries Limited</td>\n",
       "      <td>7.06036e+07</td>\n",
       "    </tr>\n",
       "    <tr>\n",
       "      <th>1</th>\n",
       "      <td>2</td>\n",
       "      <td>TCS</td>\n",
       "      <td>Tata Consultancy Services Limited</td>\n",
       "      <td>6.85223e+07</td>\n",
       "    </tr>\n",
       "    <tr>\n",
       "      <th>2</th>\n",
       "      <td>3</td>\n",
       "      <td>HINDUNILVR</td>\n",
       "      <td>Hindustan Unilever Limited</td>\n",
       "      <td>4.97584e+07</td>\n",
       "    </tr>\n",
       "    <tr>\n",
       "      <th>3</th>\n",
       "      <td>4</td>\n",
       "      <td>HDFCBANK</td>\n",
       "      <td>HDFC Bank Limited</td>\n",
       "      <td>4.72482e+07</td>\n",
       "    </tr>\n",
       "    <tr>\n",
       "      <th>4</th>\n",
       "      <td>5</td>\n",
       "      <td>HDFC</td>\n",
       "      <td>Housing Development Finance Corporation Limited</td>\n",
       "      <td>2.82357e+07</td>\n",
       "    </tr>\n",
       "    <tr>\n",
       "      <th>...</th>\n",
       "      <td>...</td>\n",
       "      <td>...</td>\n",
       "      <td>...</td>\n",
       "      <td>...</td>\n",
       "    </tr>\n",
       "    <tr>\n",
       "      <th>1792</th>\n",
       "      <td>1793</td>\n",
       "      <td>RAJOIL</td>\n",
       "      <td>Raj Oil Mills Limited</td>\n",
       "      <td>Not Traded as on March 31, 2020</td>\n",
       "    </tr>\n",
       "    <tr>\n",
       "      <th>1793</th>\n",
       "      <td>1794</td>\n",
       "      <td>SHARONBIO</td>\n",
       "      <td>Sharon Bio-Medicine Limited</td>\n",
       "      <td>Not Traded as on March 31, 2020</td>\n",
       "    </tr>\n",
       "    <tr>\n",
       "      <th>1794</th>\n",
       "      <td>1795</td>\n",
       "      <td>TANTIACONS</td>\n",
       "      <td>Tantia Constructions Limited</td>\n",
       "      <td>Not Traded as on March 31, 2020</td>\n",
       "    </tr>\n",
       "    <tr>\n",
       "      <th>1795</th>\n",
       "      <td>NaN</td>\n",
       "      <td>NaN</td>\n",
       "      <td>NaN</td>\n",
       "      <td>NaN</td>\n",
       "    </tr>\n",
       "    <tr>\n",
       "      <th>1796</th>\n",
       "      <td>Note: Kindly refer regulation 15 of SEBI (LODR...</td>\n",
       "      <td>NaN</td>\n",
       "      <td>NaN</td>\n",
       "      <td>NaN</td>\n",
       "    </tr>\n",
       "  </tbody>\n",
       "</table>\n",
       "<p>1797 rows × 4 columns</p>\n",
       "</div>"
      ],
      "text/plain": [
       "                                                Sr. No.      Symbol  \\\n",
       "0                                                     1    RELIANCE   \n",
       "1                                                     2         TCS   \n",
       "2                                                     3  HINDUNILVR   \n",
       "3                                                     4    HDFCBANK   \n",
       "4                                                     5        HDFC   \n",
       "...                                                 ...         ...   \n",
       "1792                                               1793      RAJOIL   \n",
       "1793                                               1794   SHARONBIO   \n",
       "1794                                               1795  TANTIACONS   \n",
       "1795                                                NaN         NaN   \n",
       "1796  Note: Kindly refer regulation 15 of SEBI (LODR...         NaN   \n",
       "\n",
       "                                         Company Name  \\\n",
       "0                         Reliance Industries Limited   \n",
       "1                   Tata Consultancy Services Limited   \n",
       "2                          Hindustan Unilever Limited   \n",
       "3                                   HDFC Bank Limited   \n",
       "4     Housing Development Finance Corporation Limited   \n",
       "...                                               ...   \n",
       "1792                            Raj Oil Mills Limited   \n",
       "1793                      Sharon Bio-Medicine Limited   \n",
       "1794                     Tantia Constructions Limited   \n",
       "1795                                              NaN   \n",
       "1796                                              NaN   \n",
       "\n",
       "     Market Capitalisation \\n(In lakhs)  \n",
       "0                           7.06036e+07  \n",
       "1                           6.85223e+07  \n",
       "2                           4.97584e+07  \n",
       "3                           4.72482e+07  \n",
       "4                           2.82357e+07  \n",
       "...                                 ...  \n",
       "1792    Not Traded as on March 31, 2020  \n",
       "1793    Not Traded as on March 31, 2020  \n",
       "1794    Not Traded as on March 31, 2020  \n",
       "1795                                NaN  \n",
       "1796                                NaN  \n",
       "\n",
       "[1797 rows x 4 columns]"
      ]
     },
     "execution_count": 44,
     "metadata": {},
     "output_type": "execute_result"
    }
   ],
   "source": [
    "dataset"
   ]
  },
  {
   "cell_type": "code",
   "execution_count": null,
   "metadata": {},
   "outputs": [],
   "source": []
  }
 ],
 "metadata": {
  "kernelspec": {
   "display_name": "Python 3",
   "language": "python",
   "name": "python3"
  },
  "language_info": {
   "codemirror_mode": {
    "name": "ipython",
    "version": 3
   },
   "file_extension": ".py",
   "mimetype": "text/x-python",
   "name": "python",
   "nbconvert_exporter": "python",
   "pygments_lexer": "ipython3",
   "version": "3.7.6"
  }
 },
 "nbformat": 4,
 "nbformat_minor": 4
}
